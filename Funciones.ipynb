{
  "nbformat": 4,
  "nbformat_minor": 0,
  "metadata": {
    "colab": {
      "name": "Funciones.ipynb",
      "version": "0.3.2",
      "provenance": [],
      "collapsed_sections": [],
      "toc_visible": true,
      "include_colab_link": true
    },
    "kernelspec": {
      "name": "python3",
      "display_name": "Python 3"
    }
  },
  "cells": [
    {
      "cell_type": "markdown",
      "metadata": {
        "id": "view-in-github",
        "colab_type": "text"
      },
      "source": [
        "<a href=\"https://colab.research.google.com/github/afernande376/devops-essentials-sample-app/blob/master/Funciones.ipynb\" target=\"_parent\"><img src=\"https://colab.research.google.com/assets/colab-badge.svg\" alt=\"Open In Colab\"/></a>"
      ]
    },
    {
      "cell_type": "markdown",
      "metadata": {
        "id": "p0ZyOP07AK8d",
        "colab_type": "text"
      },
      "source": [
        "# **FUNCIONES**\n",
        "\n",
        "Hay un power point con esta información. \n",
        "En Phyton los parámetros se pasan por valor. \n",
        "Hay que hacer siempre un return de los valores que queremos que nos devuelva"
      ]
    },
    {
      "cell_type": "code",
      "metadata": {
        "id": "Se1QChFlAeGY",
        "colab_type": "code",
        "colab": {}
      },
      "source": [
        "def media(val1, val2):\n",
        "    media=(val1+val2)/2\n",
        "    return media\n",
        "  \n"
      ],
      "execution_count": 0,
      "outputs": []
    },
    {
      "cell_type": "code",
      "metadata": {
        "id": "wZq0dTniApqb",
        "colab_type": "code",
        "colab": {}
      },
      "source": [
        "# *arg se utiliza solo en la parte de la llamada indica que no sabemos la longitud de la variale. \n",
        "def media(*arg):\n",
        "    suma=0\n",
        "    for elem in arg :\n",
        "      suma += elem\n",
        "    media = media / len(arg)\n",
        "    return media"
      ],
      "execution_count": 0,
      "outputs": []
    },
    {
      "cell_type": "code",
      "metadata": {
        "id": "HEAxMfXrBFZD",
        "colab_type": "code",
        "outputId": "e473a669-0ed7-47e6-84b6-e2327100915a",
        "colab": {
          "base_uri": "https://localhost:8080/",
          "height": 34
        }
      },
      "source": [
        "import math\n",
        "math.pi\n",
        "\n",
        "from math import pi\n",
        "pi"
      ],
      "execution_count": 0,
      "outputs": [
        {
          "output_type": "execute_result",
          "data": {
            "text/plain": [
              "3.141592653589793"
            ]
          },
          "metadata": {
            "tags": []
          },
          "execution_count": 4
        }
      ]
    },
    {
      "cell_type": "markdown",
      "metadata": {
        "id": "h3zvLcYrBX8h",
        "colab_type": "text"
      },
      "source": [
        "Importar funciones de paquetes que son un poco largos y podemos renombar el paquete para que sea más fácil de utlizar. "
      ]
    },
    {
      "cell_type": "code",
      "metadata": {
        "id": "I0riBV6vBVAT",
        "colab_type": "code",
        "colab": {}
      },
      "source": [
        "import numpy as n\n",
        "\n",
        "\n",
        "import matplotlib.pyplot as plt\n"
      ],
      "execution_count": 0,
      "outputs": []
    },
    {
      "cell_type": "code",
      "metadata": {
        "id": "Av1S_jymBH0D",
        "colab_type": "code",
        "colab": {}
      },
      "source": [
        "plt.Axes"
      ],
      "execution_count": 0,
      "outputs": []
    },
    {
      "cell_type": "markdown",
      "metadata": {
        "id": "rHxP-fucCVdL",
        "colab_type": "text"
      },
      "source": [
        "CREAR TUS PROPIOS MÓDULOS"
      ]
    },
    {
      "cell_type": "code",
      "metadata": {
        "id": "ydvhQEYTCXmb",
        "colab_type": "code",
        "colab": {}
      },
      "source": [
        "def media(*arg):\n",
        "    suma=0\n",
        "    for elem in arg :\n",
        "      suma += elem\n",
        "    media = media / len(arg)\n",
        "    return media"
      ],
      "execution_count": 0,
      "outputs": []
    },
    {
      "cell_type": "code",
      "metadata": {
        "id": "mdrrzlDLCcvr",
        "colab_type": "code",
        "outputId": "7814e18c-b0bf-42d1-bf7a-0e5e902c43aa",
        "colab": {
          "base_uri": "https://localhost:8080/",
          "height": 265
        }
      },
      "source": [
        "media(1,2,4)"
      ],
      "execution_count": 0,
      "outputs": [
        {
          "output_type": "error",
          "ename": "UnboundLocalError",
          "evalue": "ignored",
          "traceback": [
            "\u001b[0;31m---------------------------------------------------------------------------\u001b[0m",
            "\u001b[0;31mUnboundLocalError\u001b[0m                         Traceback (most recent call last)",
            "\u001b[0;32m<ipython-input-7-28be0b2c23f2>\u001b[0m in \u001b[0;36m<module>\u001b[0;34m()\u001b[0m\n\u001b[0;32m----> 1\u001b[0;31m \u001b[0mmedia\u001b[0m\u001b[0;34m(\u001b[0m\u001b[0;36m1\u001b[0m\u001b[0;34m,\u001b[0m\u001b[0;36m2\u001b[0m\u001b[0;34m,\u001b[0m\u001b[0;36m4\u001b[0m\u001b[0;34m)\u001b[0m\u001b[0;34m\u001b[0m\u001b[0;34m\u001b[0m\u001b[0m\n\u001b[0m",
            "\u001b[0;32m<ipython-input-6-e89e9584c2af>\u001b[0m in \u001b[0;36mmedia\u001b[0;34m(*arg)\u001b[0m\n\u001b[1;32m      3\u001b[0m     \u001b[0;32mfor\u001b[0m \u001b[0melem\u001b[0m \u001b[0;32min\u001b[0m \u001b[0marg\u001b[0m \u001b[0;34m:\u001b[0m\u001b[0;34m\u001b[0m\u001b[0;34m\u001b[0m\u001b[0m\n\u001b[1;32m      4\u001b[0m       \u001b[0msuma\u001b[0m \u001b[0;34m+=\u001b[0m \u001b[0melem\u001b[0m\u001b[0;34m\u001b[0m\u001b[0;34m\u001b[0m\u001b[0m\n\u001b[0;32m----> 5\u001b[0;31m     \u001b[0mmedia\u001b[0m \u001b[0;34m=\u001b[0m \u001b[0mmedia\u001b[0m \u001b[0;34m/\u001b[0m \u001b[0mlen\u001b[0m\u001b[0;34m(\u001b[0m\u001b[0marg\u001b[0m\u001b[0;34m)\u001b[0m\u001b[0;34m\u001b[0m\u001b[0;34m\u001b[0m\u001b[0m\n\u001b[0m\u001b[1;32m      6\u001b[0m     \u001b[0;32mreturn\u001b[0m \u001b[0mmedia\u001b[0m\u001b[0;34m\u001b[0m\u001b[0;34m\u001b[0m\u001b[0m\n",
            "\u001b[0;31mUnboundLocalError\u001b[0m: local variable 'media' referenced before assignment"
          ]
        }
      ]
    },
    {
      "cell_type": "markdown",
      "metadata": {
        "id": "9TY-a1siDXuI",
        "colab_type": "text"
      },
      "source": [
        "# ANACONDA\n",
        "\n",
        "Ahora nos manda instalar Anaconda tras descargarlo de Internet. \n",
        "\n",
        "Hay versión de phyton 3.7 y 2.7.\n",
        "\n",
        "La explicación es que las vesiones 2.x son versiones antiguas mientras qeu las 3.x son las modernas porque en el pasado hubo un intento de darle otra orientación al phyton y por eso \n"
      ]
    }
  ]
}